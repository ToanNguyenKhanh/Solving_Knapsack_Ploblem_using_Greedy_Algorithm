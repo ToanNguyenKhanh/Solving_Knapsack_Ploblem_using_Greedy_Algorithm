{
  "nbformat": 4,
  "nbformat_minor": 0,
  "metadata": {
    "colab": {
      "provenance": []
    },
    "kernelspec": {
      "name": "python3",
      "display_name": "Python 3"
    },
    "language_info": {
      "name": "python"
    }
  },
  "cells": [
    {
      "cell_type": "markdown",
      "source": [
        "# GIẢI BÀI TOÁN CÁI BALO BẰNG GIẢI THUẬT THAM LAM \n"
      ],
      "metadata": {
        "id": "R0DMNTh0SCTs"
      }
    },
    {
      "cell_type": "markdown",
      "source": [
        "**Cho tập các đồ vật có giá trị và trọng lượng như sau:**\n",
        "\n",
        "$$( v_i , w_i) = \\{ (2,7),(6,3),(8,3),(7,5),(3,4),(4,7),(6,5),\n",
        "(5,4),(10,15),(9,10),(8,17),(11,3),(12,6),(15,11),(6,6),\n",
        "(8,14),(13,4),(14,8), $$ <br/>\n",
        "$$ (15,9),(16,10),(13,14),(14,17),(15,9),(26,24),(13,11),(9,17),(25,12),(26,14) \\}$$ **với dung tích chứa tối đa của cái Balo là W = 30**\n",
        "\n",
        "Trong bài toán Ba lô, mục tiêu của chúng ta là tìm ra sự kết hợp tối ưu của các đối tượng được ràng buộc bởi tổng trọng lượng W và đạt được lợi nhuận/giá trị cao nhất (v). "
      ],
      "metadata": {
        "id": "rD1e6hreSGyl"
      }
    },
    {
      "cell_type": "markdown",
      "source": [
        "## Import library và cho tập dữ liệu mẫu"
      ],
      "metadata": {
        "id": "PQrP-FY-SNHQ"
      }
    },
    {
      "cell_type": "code",
      "source": [
        "import numpy as np\n",
        "import time\n",
        "v = np.array([2,6,8,7,3,4,6,5,10,9,8,11,12,15,6,8,13,14,15,16,13,14,15,26,13,9,25,26])\n",
        "n = len(v)\n",
        "w = np.array([7,3,3,5,4,7,5,4,15,10,17,3,6,11,6,14,4,8,9,10,14,17,9,24,11,17,12,14])\n",
        "W = 30"
      ],
      "metadata": {
        "id": "jpy0jOkxSSJp"
      },
      "execution_count": 88,
      "outputs": []
    },
    {
      "cell_type": "markdown",
      "source": [
        "## 1. Xếp ba lô dạng 0-1 \n",
        "**The 0-1 knapsack problem**\n",
        "- Hạn chế số đồ vật thuộc mỗi loại là 0 (không được chọn) và 1 (được chọn).\n",
        "- Phát biểu bằng toán học:\n",
        "\n",
        "$$ \\mbox{Cực đại hóa: } \\Sigma_{j=1}^n p_j x_j \\quad \\mbox{sao cho} \\quad \\Sigma_{j=1}^n w_j x_j \\le c, \\quad \\quad x_j \\in {\\{0;1\\}}, \\quad j=1,\\dots,n $$\n",
        " \n"
      ],
      "metadata": {
        "id": "BsQLatMISUwM"
      }
    },
    {
      "cell_type": "code",
      "execution_count": 104,
      "metadata": {
        "id": "K0vbDZfxg7IR"
      },
      "outputs": [],
      "source": [
        "# Hàm mục tiêu Tính điểm (v_i/w_i) và sắp xếp điểm giảm dần\n",
        "def calculateScore01(v,w,n):\n",
        "    score = np.array([])\n",
        "    for i in range(n):\n",
        "        score = np.append(score,round((v[i]/w[i]),3)) \n",
        "    # Sắp xếp chỉ số điểm theo thứ tự giảm dần\n",
        "    scoreIndexs = np.argsort(-score)     \n",
        "    return scoreIndexs\n",
        "\n",
        "# Giải thuật tham lam Bài toán cái túi\n",
        "def KnapSack01(v,w,n,W,shouldPrint= True):\n",
        "    start_01 = time.time()\n",
        "    sumItems = 0\n",
        "    \n",
        "    # Sắp xếp các mục theo điểm số \n",
        "    scoreIndexs =  calculateScore01(v,w,n) \n",
        "    itemsInKnapsack = np.zeros(n).astype(int)\n",
        "    \n",
        "    # Thêm đồ vật có điểm cao nhất, dưới dung tích chứa của Balo.\n",
        "    for i in range(n):\n",
        "        index = scoreIndexs[i]\n",
        "        if sumItems + w[index] <= W :\n",
        "            itemsInKnapsack[index] = 1 \n",
        "            sumItems += w[index]\n",
        "            if shouldPrint:\n",
        "                print(f\"Thêm ({v[index]}, {w[index]}) vào BaLo\")   \n",
        "    \n",
        "    end_01 = time.time()\n",
        "    # Chỉ số trả về của tập hợp mang lại lợi nhuận tối đa\n",
        "    return itemsInKnapsack, {end_01 - start_01}"
      ]
    },
    {
      "cell_type": "code",
      "source": [
        "itemsInKnapsack, runTime = KnapSack01(v,w,n,W)\n",
        "\n",
        "print(\"***************************\")\n",
        "print(\"Mảng:\")\n",
        "print(f\"Giá trị: {v}\")\n",
        "print(f\"Trọng lượng: {w}\")\n",
        "print(f\"Danh sách đồ vật được chọn: {itemsInKnapsack}\")\n",
        "print(\"Giá trị (v) được chọn:    \",v[itemsInKnapsack==1])  \n",
        "print(\"Trọng lượng (w) được chọn:\",w[itemsInKnapsack==1])  \n",
        "print(\"***************************\")\n",
        "print(\"Tổng giá trị:    \" , np.sum(v[itemsInKnapsack==1]))\n",
        "print(\"Tổng trọng lượng:\" , np.sum(w[itemsInKnapsack==1]))\n",
        "print(\"Thời gian thực hiện:\" , runTime)"
      ],
      "metadata": {
        "colab": {
          "base_uri": "https://localhost:8080/"
        },
        "id": "ci_SZa74g88o",
        "outputId": "7050d655-c0ac-40cb-e597-4a946446edbb"
      },
      "execution_count": 105,
      "outputs": [
        {
          "output_type": "stream",
          "name": "stdout",
          "text": [
            "Thêm (11, 3) vào BaLo\n",
            "Thêm (13, 4) vào BaLo\n",
            "Thêm (8, 3) vào BaLo\n",
            "Thêm (25, 12) vào BaLo\n",
            "Thêm (6, 3) vào BaLo\n",
            "Thêm (7, 5) vào BaLo\n",
            "***************************\n",
            "Mảng:\n",
            "Giá trị: [ 2  6  8  7  3  4  6  5 10  9  8 11 12 15  6  8 13 14 15 16 13 14 15 26\n",
            " 13  9 25 26]\n",
            "Trọng lượng: [ 7  3  3  5  4  7  5  4 15 10 17  3  6 11  6 14  4  8  9 10 14 17  9 24\n",
            " 11 17 12 14]\n",
            "Danh sách đồ vật được chọn: [0 1 1 1 0 0 0 0 0 0 0 1 0 0 0 0 1 0 0 0 0 0 0 0 0 0 1 0]\n",
            "Giá trị (v) được chọn:     [ 6  8  7 11 13 25]\n",
            "Trọng lượng (w) được chọn: [ 3  3  5  3  4 12]\n",
            "***************************\n",
            "Tổng giá trị:     70\n",
            "Tổng trọng lượng: 30\n",
            "Thời gian thực hiện: {0.003995418548583984}\n"
          ]
        }
      ]
    },
    {
      "cell_type": "markdown",
      "source": [
        "## 2. Xếp ba lô dạng phân số\n",
        "Fractional Knapsack"
      ],
      "metadata": {
        "id": "HB1bWK0MrPRv"
      }
    },
    {
      "cell_type": "code",
      "source": [
        "def calculateScoreFrac(v,w,n):\n",
        "    # Tính tỷ lệ giá trị trên khối lượng cho từng đồ vật\n",
        "    ratios = [vi / wi for vi, wi in zip(v, w)]\n",
        "    \n",
        "    # Sắp xếp các đồ vật theo tỷ lệ giảm dần    \n",
        "    items = sorted(zip(ratios, v, w), reverse=True)\n",
        "    return items\n",
        "\n",
        "def fractionalKnapsack(v,w,n,W, items = None):\n",
        "\n",
        "    final_value = 0.0\n",
        "    final_weight = 0.0\n",
        "    selected_items = []\n",
        "    if items is None:\n",
        "        items = calculateScoreFrac(v, w, n)\n",
        "    else:\n",
        "        items\n",
        "    for ratio, vi, wi in items:   \n",
        "         \n",
        "        # Nếu đồ vật có khối lượng nhỏ hơn hoặc bằng khối lượng còn lại của balo thì giảm khối lượng còn lại của balo\n",
        "        # Cộng giá trị balo vào tổng giá trị cuối cùng, Thêm đồ vật vào danh sách các món hàng đã chọn  \n",
        "        if wi <= W:\n",
        "            W -= wi\n",
        "            final_value += vi\n",
        "            final_weight += wi\n",
        "            selected_items.append((vi, wi))\n",
        "        \n",
        "        # Nếu không thể chứa món hàng vào túi hoàn toàn thì cộng giá trị đã thêm vào tổng giá trị cuối cùng,\n",
        "        # Cộng khối lượng đã thêm vào tổng trọng lượng cuối cùng     \n",
        "        else:\n",
        "            added_weight = W\n",
        "            added_value = vi * (W / wi)\n",
        "            final_value += added_value\n",
        "            final_weight += added_weight\n",
        "            selected_items.append((added_value, added_weight))\n",
        "            break\n",
        "\n",
        "    # Trả về tổng giá trị, tổng trọng lượng và danh sách các món hàng đã chọn\n",
        "    return final_value, final_weight, selected_items\n",
        " \n",
        "total_value, total_weight, selected_items = fractionalKnapsack(v, w, n, W)\n",
        " \n",
        "print(\"Tổng giá trị    :\", total_value)\n",
        "print(\"Tổng trọng lượng:\", total_weight)\n",
        "print(\"*****************\")\n",
        "for item in selected_items:\n",
        "    print(f\"Thêm ({item[0]}, {item[1]}) vào BaLo\") "
      ],
      "metadata": {
        "colab": {
          "base_uri": "https://localhost:8080/"
        },
        "id": "lZz0cZQ2hCCe",
        "outputId": "c838a145-8a3f-49e3-cec5-412f967cce33"
      },
      "execution_count": 95,
      "outputs": [
        {
          "output_type": "stream",
          "name": "stdout",
          "text": [
            "Tổng giá trị    : 73.0\n",
            "Tổng trọng lượng: 30.0\n",
            "*****************\n",
            "Thêm (11, 3) vào BaLo\n",
            "Thêm (13, 4) vào BaLo\n",
            "Thêm (8, 3) vào BaLo\n",
            "Thêm (25, 12) vào BaLo\n",
            "Thêm (12, 6) vào BaLo\n",
            "Thêm (4.0, 2) vào BaLo\n"
          ]
        }
      ]
    },
    {
      "cell_type": "markdown",
      "source": [
        "## 3. So sánh thời gian thực hiện với loại Sort khác nhau"
      ],
      "metadata": {
        "id": "88q1H39hTBOF"
      }
    },
    {
      "cell_type": "markdown",
      "source": [
        "### Merge Sort"
      ],
      "metadata": {
        "id": "O4jRgm4gTDEh"
      }
    },
    {
      "cell_type": "code",
      "source": [
        "def mergeSort(arr):\n",
        "    if len(arr) <= 1:\n",
        "        return arr\n",
        "    \n",
        "    mid = len(arr) // 2\n",
        "    left = arr[:mid]\n",
        "    right = arr[mid:]\n",
        "    \n",
        "    left = mergeSort(left)\n",
        "    right = mergeSort(right)\n",
        "    \n",
        "    return merge(left, right)\n",
        "\n",
        "def merge(left, right):\n",
        "    result = []\n",
        "    i = j = 0\n",
        "    \n",
        "    while i < len(left) and j < len(right):\n",
        "        if left[i][0] > right[j][0]:\n",
        "            result.append(left[i])\n",
        "            i += 1\n",
        "        else:\n",
        "            result.append(right[j])\n",
        "            j += 1\n",
        "    \n",
        "    while i < len(left):\n",
        "        result.append(left[i])\n",
        "        i += 1\n",
        "    \n",
        "    while j < len(right):\n",
        "        result.append(right[j])\n",
        "        j += 1\n",
        "    \n",
        "    return result\n",
        "\n",
        "def calculateScore_Merge(v, w, n):\n",
        "    # Tính tỷ lệ giá trị trên khối lượng cho từng đồ vật\n",
        "    ratios = [vi / wi for vi, wi in zip(v, w)]\n",
        "    \n",
        "    # Kết hợp các đồ vật và tỷ lệ vào một danh sách\n",
        "    items = list(zip(ratios, v, w))\n",
        "    \n",
        "    # Sắp xếp danh sách các đồ vật bằng merge sort\n",
        "    sorted_items = mergeSort(items)\n",
        "    \n",
        "    return sorted_items\n"
      ],
      "metadata": {
        "id": "2GOBAw9LrOZ7"
      },
      "execution_count": 87,
      "outputs": []
    },
    {
      "cell_type": "markdown",
      "source": [
        "### Quick Sort"
      ],
      "metadata": {
        "id": "zuAQGuPbtMjs"
      }
    },
    {
      "cell_type": "code",
      "source": [
        "def partition(arr, low, high):\n",
        "    pivot = arr[high][0]\n",
        "    i = low - 1\n",
        "\n",
        "    for j in range(low, high):\n",
        "        if arr[j][0] >= pivot:\n",
        "            i += 1\n",
        "            arr[i], arr[j] = arr[j], arr[i]\n",
        "\n",
        "    arr[i + 1], arr[high] = arr[high], arr[i + 1]\n",
        "    return i + 1\n",
        "\n",
        "\n",
        "def quickSort(arr, low, high):\n",
        "    if low < high:\n",
        "        pi = partition(arr, low, high)\n",
        "        quickSort(arr, low, pi - 1)\n",
        "        quickSort(arr, pi + 1, high)\n",
        "\n",
        "\n",
        "def calculateScore_Quick(v, w, n):\n",
        "    # Tính tỷ lệ giá trị trên khối lượng cho từng đồ vật\n",
        "    ratios = [vi / wi for vi, wi in zip(v, w)]\n",
        "\n",
        "    # Kết hợp các đồ vật và tỷ lệ vào một danh sách\n",
        "    items = list(zip(ratios, v, w))\n",
        "\n",
        "    # Sắp xếp danh sách các đồ vật bằng quick sort\n",
        "    quickSort(items, 0, len(items) - 1)\n",
        "\n",
        "    return items\n"
      ],
      "metadata": {
        "id": "4cc28VsZtOef"
      },
      "execution_count": 93,
      "outputs": []
    },
    {
      "cell_type": "markdown",
      "source": [
        "### So sánh "
      ],
      "metadata": {
        "id": "hxHaF97GTQuT"
      }
    },
    {
      "cell_type": "code",
      "source": [
        "# Hàm fractionalKnapsack với cách sắp xếp merge sort\n",
        "start_time = time.time()\n",
        "total_value, total_weight, selected_items = fractionalKnapsack(v, w, n, W, items = None)\n",
        "end_time = time.time()\n",
        "merge_sort_time = end_time - start_time\n",
        "\n",
        "# Hàm fractionalKnapsack với cách sắp xếp quick sort\n",
        "start_time = time.time()\n",
        "items = calculateScore_Quick(v, w, n)\n",
        "total_value, total_weight, selected_items = fractionalKnapsack(v, w, n, W, items)\n",
        "end_time = time.time()\n",
        "quick_sort_time = end_time - start_time\n",
        "\n",
        "# Hàm fractionalKnapsack với cách sắp xếp sorted\n",
        "start_time = time.time()\n",
        "items = calculateScoreFrac(v, w, n)\n",
        "total_value, total_weight, selected_items = fractionalKnapsack(v, w, n, W, items)\n",
        "end_time = time.time()\n",
        "sorted_time = end_time - start_time\n",
        "\n",
        "# In kết quả\n",
        "print(\"Thời gian thực hiện với merge sort:\", merge_sort_time)\n",
        "print(\"Thời gian thực hiện với quick sort:\", quick_sort_time)\n",
        "print(\"Thời gian thực hiện với sorted:\", sorted_time)\n",
        "\n"
      ],
      "metadata": {
        "id": "Lb9QFC3Ahhcm",
        "colab": {
          "base_uri": "https://localhost:8080/"
        },
        "outputId": "499d4ff3-d601-4e46-cf23-d23a2965aabd"
      },
      "execution_count": 94,
      "outputs": [
        {
          "output_type": "stream",
          "name": "stdout",
          "text": [
            "Thời gian thực hiện với merge sort: 0.0003249645233154297\n",
            "Thời gian thực hiện với quick sort: 0.0002536773681640625\n",
            "Thời gian thực hiện với sorted: 0.00017333030700683594\n"
          ]
        }
      ]
    }
  ]
}